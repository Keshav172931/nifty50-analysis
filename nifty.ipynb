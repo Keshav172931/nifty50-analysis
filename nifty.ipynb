{
 "cells": [
  {
   "cell_type": "code",
   "execution_count": null,
   "id": "e29d2740",
   "metadata": {},
   "outputs": [],
   "source": [
    "\n",
    "import pandas as pd\n",
    "import numpy as np\n",
    "import matplotlib.pyplot as plt\n",
    "import seaborn as sns\n",
    "\n",
    "from sklearn.neighbors import KNeighborsRegressor\n",
    "from sklearn.linear_model import LinearRegression\n",
    "from sklearn.model_selection import train_test_split\n",
    "from sklearn.metrics import mean_squared_error, r2_score\n",
    "from scipy.stats import f_oneway\n",
    "\n",
    "%matplotlib inline"
   ]
  },
  {
   "cell_type": "code",
   "execution_count": null,
   "id": "59aec318",
   "metadata": {},
   "outputs": [],
   "source": [
    "df = pd.read_csv(\"C:/Users/HP/Downloads/stocks.csv\", parse_dates=['Date'])\n",
    "df.set_index('Date', inplace=True)\n",
    "df.sort_index(inplace=True)\n",
    "df.head()\n"
   ]
  },
  {
   "cell_type": "code",
   "execution_count": null,
   "id": "590ca50d",
   "metadata": {},
   "outputs": [],
   "source": [
    "\n",
    "plt.figure(figsize=(14, 6))\n",
    "plt.plot(df['Close'], label='Nifty 50 Close Price')\n",
    "plt.title('Nifty 50 Index (2000–2024)')\n",
    "plt.xlabel('Date')\n",
    "plt.ylabel('Index Value')\n",
    "plt.legend()\n",
    "plt.grid(True)\n",
    "plt.show()"
   ]
  },
  {
   "cell_type": "code",
   "execution_count": null,
   "id": "33da7563",
   "metadata": {},
   "outputs": [],
   "source": [
    "# Mark key economic events\n",
    "events = {\n",
    "    '2008 Financial Crisis': '2008-09-15',\n",
    "    '2016 Demonetization': '2016-11-08',\n",
    "    'COVID-19 Crash': '2020-03-23'\n",
    "}\n",
    "\n",
    "plt.figure(figsize=(14, 6))\n",
    "plt.plot(df['Close'], label='Nifty 50 Close Price')\n",
    "\n",
    "for event, date in events.items():\n",
    "    plt.axvline(pd.to_datetime(date), color='red', linestyle='--', label=event)\n",
    "\n",
    "plt.title('Nifty 50 with Major Economic Events')\n",
    "plt.xlabel('Date')\n",
    "plt.ylabel('Index Value')\n",
    "plt.legend()\n",
    "plt.grid(True)\n",
    "plt.show()"
   ]
  },
  {
   "cell_type": "code",
   "execution_count": null,
   "id": "e56bdc6d",
   "metadata": {},
   "outputs": [],
   "source": [
    "\n",
    "df['Year'] = df.index.year\n",
    "returns_by_year = [group['Close'].pct_change().dropna() for _, group in df.groupby('Year') if len(group) > 250]\n",
    "anova_result = f_oneway(*returns_by_year)\n",
    "anova_result\n"
   ]
  },
  {
   "cell_type": "code",
   "execution_count": null,
   "id": "ad76e1c7",
   "metadata": {},
   "outputs": [],
   "source": [
    "\n",
    "# Simple model using lag features\n",
    "df['Prev_Close'] = df['Close'].shift(1)\n",
    "df = df.dropna()\n",
    "\n",
    "X = df[['Prev_Close']]\n",
    "y = df['Close']\n",
    "\n",
    "X_train, X_test, y_train, y_test = train_test_split(X, y, test_size=0.2, shuffle=False)\n",
    "\n",
    "# KNN Model\n",
    "knn = KNeighborsRegressor(n_neighbors=5)\n",
    "knn.fit(X_train, y_train)\n",
    "knn_preds = knn.predict(X_test)\n",
    "\n",
    "# Linear Regression Model\n",
    "lr = LinearRegression()\n",
    "lr.fit(X_train, y_train)\n",
    "lr_preds = lr.predict(X_test)\n",
    "\n",
    "# Evaluation\n",
    "print(\"KNN R²:\", r2_score(y_test, knn_preds))\n",
    "print(\"LR R²:\", r2_score(y_test, lr_preds))"
   ]
  }
 ],
 "metadata": {
  "language_info": {
   "name": "python"
  }
 },
 "nbformat": 4,
 "nbformat_minor": 5
}
